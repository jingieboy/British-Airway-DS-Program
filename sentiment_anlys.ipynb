{
 "cells": [
  {
   "cell_type": "code",
   "execution_count": 1,
   "metadata": {},
   "outputs": [],
   "source": [
    "import pandas as pd\n",
    "import numpy as np\n",
    "import matplotlib.pyplot as plt"
   ]
  },
  {
   "cell_type": "code",
   "execution_count": 2,
   "metadata": {},
   "outputs": [
    {
     "data": {
      "text/html": [
       "<div>\n",
       "<style scoped>\n",
       "    .dataframe tbody tr th:only-of-type {\n",
       "        vertical-align: middle;\n",
       "    }\n",
       "\n",
       "    .dataframe tbody tr th {\n",
       "        vertical-align: top;\n",
       "    }\n",
       "\n",
       "    .dataframe thead th {\n",
       "        text-align: right;\n",
       "    }\n",
       "</style>\n",
       "<table border=\"1\" class=\"dataframe\">\n",
       "  <thead>\n",
       "    <tr style=\"text-align: right;\">\n",
       "      <th></th>\n",
       "      <th>status</th>\n",
       "      <th>aircraft</th>\n",
       "      <th>travel_type</th>\n",
       "      <th>travel_class</th>\n",
       "      <th>route</th>\n",
       "      <th>date</th>\n",
       "      <th>seating_comfort</th>\n",
       "      <th>staff_service</th>\n",
       "      <th>food_quality</th>\n",
       "      <th>entertainment</th>\n",
       "      <th>wifi</th>\n",
       "      <th>ground_service</th>\n",
       "      <th>value_for_money</th>\n",
       "      <th>recommended</th>\n",
       "      <th>overall_rating</th>\n",
       "      <th>review</th>\n",
       "    </tr>\n",
       "  </thead>\n",
       "  <tbody>\n",
       "    <tr>\n",
       "      <th>0</th>\n",
       "      <td>✅ Trip Verified</td>\n",
       "      <td>Boeing 777-300</td>\n",
       "      <td>Couple Leisure</td>\n",
       "      <td>First Class</td>\n",
       "      <td>London to Male</td>\n",
       "      <td>December 2022</td>\n",
       "      <td>2.0</td>\n",
       "      <td>2.0</td>\n",
       "      <td>1.0</td>\n",
       "      <td>1.0</td>\n",
       "      <td>1.0</td>\n",
       "      <td>3.0</td>\n",
       "      <td>1</td>\n",
       "      <td>no</td>\n",
       "      <td>3.0</td>\n",
       "      <td>Another BA Shambles. Started off well with e...</td>\n",
       "    </tr>\n",
       "    <tr>\n",
       "      <th>1</th>\n",
       "      <td>Not Verified</td>\n",
       "      <td>A320</td>\n",
       "      <td>Solo Leisure</td>\n",
       "      <td>Economy Class</td>\n",
       "      <td>Keflavik to London Heathrow</td>\n",
       "      <td>December 2022</td>\n",
       "      <td>2.0</td>\n",
       "      <td>3.0</td>\n",
       "      <td>NaN</td>\n",
       "      <td>NaN</td>\n",
       "      <td>NaN</td>\n",
       "      <td>1.0</td>\n",
       "      <td>1</td>\n",
       "      <td>no</td>\n",
       "      <td>1.0</td>\n",
       "      <td>BA cancelled my flight home to Heathrow on D...</td>\n",
       "    </tr>\n",
       "    <tr>\n",
       "      <th>2</th>\n",
       "      <td>Not Verified</td>\n",
       "      <td>NaN</td>\n",
       "      <td>Business</td>\n",
       "      <td>Business Class</td>\n",
       "      <td>London Heathrow to Frankfurt</td>\n",
       "      <td>October 2022</td>\n",
       "      <td>3.0</td>\n",
       "      <td>4.0</td>\n",
       "      <td>3.0</td>\n",
       "      <td>NaN</td>\n",
       "      <td>NaN</td>\n",
       "      <td>1.0</td>\n",
       "      <td>1</td>\n",
       "      <td>no</td>\n",
       "      <td>1.0</td>\n",
       "      <td>BA cancelled my flight home, the last flight...</td>\n",
       "    </tr>\n",
       "    <tr>\n",
       "      <th>3</th>\n",
       "      <td>✅ Trip Verified</td>\n",
       "      <td>NaN</td>\n",
       "      <td>Solo Leisure</td>\n",
       "      <td>Economy Class</td>\n",
       "      <td>London Heathrow to Bangkok via Doha</td>\n",
       "      <td>December 2022</td>\n",
       "      <td>2.0</td>\n",
       "      <td>2.0</td>\n",
       "      <td>2.0</td>\n",
       "      <td>2.0</td>\n",
       "      <td>NaN</td>\n",
       "      <td>1.0</td>\n",
       "      <td>1</td>\n",
       "      <td>no</td>\n",
       "      <td>2.0</td>\n",
       "      <td>Turned up 3.5 hours in advance, Terminal 5 at...</td>\n",
       "    </tr>\n",
       "    <tr>\n",
       "      <th>4</th>\n",
       "      <td>Not Verified</td>\n",
       "      <td>NaN</td>\n",
       "      <td>Couple Leisure</td>\n",
       "      <td>Premium Economy</td>\n",
       "      <td>London Gatwick to Cancun</td>\n",
       "      <td>November 2022</td>\n",
       "      <td>4.0</td>\n",
       "      <td>1.0</td>\n",
       "      <td>1.0</td>\n",
       "      <td>3.0</td>\n",
       "      <td>NaN</td>\n",
       "      <td>1.0</td>\n",
       "      <td>1</td>\n",
       "      <td>no</td>\n",
       "      <td>2.0</td>\n",
       "      <td>Boarding – at gate at LGW they called Group ...</td>\n",
       "    </tr>\n",
       "  </tbody>\n",
       "</table>\n",
       "</div>"
      ],
      "text/plain": [
       "             status        aircraft     travel_type     travel_class  \\\n",
       "0  ✅ Trip Verified   Boeing 777-300  Couple Leisure      First Class   \n",
       "1     Not Verified             A320    Solo Leisure    Economy Class   \n",
       "2     Not Verified              NaN        Business   Business Class   \n",
       "3  ✅ Trip Verified              NaN    Solo Leisure    Economy Class   \n",
       "4     Not Verified              NaN  Couple Leisure  Premium Economy   \n",
       "\n",
       "                                 route           date  seating_comfort  \\\n",
       "0                       London to Male  December 2022              2.0   \n",
       "1          Keflavik to London Heathrow  December 2022              2.0   \n",
       "2         London Heathrow to Frankfurt   October 2022              3.0   \n",
       "3  London Heathrow to Bangkok via Doha  December 2022              2.0   \n",
       "4             London Gatwick to Cancun  November 2022              4.0   \n",
       "\n",
       "   staff_service  food_quality  entertainment  wifi  ground_service  \\\n",
       "0            2.0           1.0            1.0   1.0             3.0   \n",
       "1            3.0           NaN            NaN   NaN             1.0   \n",
       "2            4.0           3.0            NaN   NaN             1.0   \n",
       "3            2.0           2.0            2.0   NaN             1.0   \n",
       "4            1.0           1.0            3.0   NaN             1.0   \n",
       "\n",
       "   value_for_money recommended  overall_rating  \\\n",
       "0                1          no             3.0   \n",
       "1                1          no             1.0   \n",
       "2                1          no             1.0   \n",
       "3                1          no             2.0   \n",
       "4                1          no             2.0   \n",
       "\n",
       "                                              review  \n",
       "0    Another BA Shambles. Started off well with e...  \n",
       "1    BA cancelled my flight home to Heathrow on D...  \n",
       "2    BA cancelled my flight home, the last flight...  \n",
       "3   Turned up 3.5 hours in advance, Terminal 5 at...  \n",
       "4    Boarding – at gate at LGW they called Group ...  "
      ]
     },
     "execution_count": 2,
     "metadata": {},
     "output_type": "execute_result"
    }
   ],
   "source": [
    "df = pd.read_csv('British_Airways.csv')\n",
    "df.head()"
   ]
  },
  {
   "cell_type": "code",
   "execution_count": 4,
   "metadata": {},
   "outputs": [
    {
     "data": {
      "text/plain": [
       "(3441, 16)"
      ]
     },
     "execution_count": 4,
     "metadata": {},
     "output_type": "execute_result"
    }
   ],
   "source": [
    "df.shape"
   ]
  },
  {
   "cell_type": "code",
   "execution_count": 22,
   "metadata": {},
   "outputs": [
    {
     "data": {
      "text/plain": [
       "<AxesSubplot:title={'center':'Count of Reviews by Overall Rating'}, xlabel='Rating', ylabel='Count'>"
      ]
     },
     "execution_count": 22,
     "metadata": {},
     "output_type": "execute_result"
    },
    {
     "data": {
      "image/png": "[encoded data removed]",
      "text/plain": [
       "<Figure size 720x360 with 1 Axes>"
      ]
     },
     "metadata": {
      "needs_background": "light"
     },
     "output_type": "display_data"
    }
   ],
   "source": [
    "df['overall_rating'].value_counts().sort_index()\\\n",
    "    .plot(kind='bar',title='Count of Reviews by Overall Rating', \n",
    "        xlabel='Rating', ylabel='Count', figsize=(10,5))\n",
    "\n"
   ]
  },
  {
   "cell_type": "code",
   "execution_count": null,
   "metadata": {},
   "outputs": [],
   "source": []
  }
 ],
 "metadata": {
  "kernelspec": {
   "display_name": "base",
   "language": "python",
   "name": "python3"
  },
  "language_info": {
   "codemirror_mode": {
    "name": "ipython",
    "version": 3
   },
   "file_extension": ".py",
   "mimetype": "text/x-python",
   "name": "python",
   "nbconvert_exporter": "python",
   "pygments_lexer": "ipython3",
   "version": "3.9.7 (default, Sep 16 2021, 08:50:36) \n[Clang 10.0.0 ]"
  },
  "orig_nbformat": 4,
  "vscode": {
   "interpreter": {
    "hash": "753a93eb01c794699a09e40465594677301f89555630c82db1babe1afb649d36"
   }
  }
 },
 "nbformat": 4,
 "nbformat_minor": 2
}
